{
 "cells": [
  {
   "cell_type": "markdown",
   "metadata": {},
   "source": [
    "v2 (add model, VIN features)"
   ]
  },
  {
   "cell_type": "markdown",
   "metadata": {},
   "source": [
    "# Import modules"
   ]
  },
  {
   "cell_type": "code",
   "execution_count": 1,
   "metadata": {},
   "outputs": [],
   "source": [
    "import io\n",
    "import boto3\n",
    "import configparser\n",
    "\n",
    "import numpy as np\n",
    "import pandas as pd\n",
    "\n",
    "import matplotlib.pyplot as plt\n",
    "import seaborn as sns"
   ]
  },
  {
   "cell_type": "code",
   "execution_count": 2,
   "metadata": {},
   "outputs": [],
   "source": [
    "pd.set_option('display.max_columns', 50)\n",
    "pd.set_option('display.max_rows', 100)"
   ]
  },
  {
   "cell_type": "markdown",
   "metadata": {},
   "source": [
    "# Load data from s3"
   ]
  },
  {
   "cell_type": "code",
   "execution_count": 3,
   "metadata": {},
   "outputs": [],
   "source": [
    "def read_csv_from_s3(section_name, bucket_name, file_path, ):\n",
    "    \n",
    "    parser = configparser.ConfigParser()\n",
    "    parser.read('./config.ini')\n",
    "    access_key = parser.get(section_name, \"access_key\")\n",
    "    secret_key = parser.get(section_name, \"secret_key\")\n",
    "    \n",
    "    s3 = boto3.client('s3',\n",
    "                      aws_access_key_id=access_key, \n",
    "                      aws_secret_access_key=secret_key)\n",
    "    print(\"Get object\")\n",
    "    obj = s3.get_object(Bucket=bucket_name, Key=file_path)\n",
    "\n",
    "    print(\"Read csv\")\n",
    "    df = pd.read_csv( io.BytesIO( obj[\"Body\"].read() ) )\n",
    "    \n",
    "    print(\"Completed\")\n",
    "    print(\"Data size:\", df.shape)\n",
    "\n",
    "    return df"
   ]
  },
  {
   "cell_type": "code",
   "execution_count": 4,
   "metadata": {},
   "outputs": [
    {
     "name": "stdout",
     "output_type": "stream",
     "text": [
      "Get object\n",
      "Read csv\n",
      "Completed\n",
      "Data size: (426880, 26)\n"
     ]
    }
   ],
   "source": [
    "section_name = \"aws_boto_credentials\"\n",
    "bucket_name = \"ev-depreciation-model\"\n",
    "file_path = \"vehicles.csv\"\n",
    "\n",
    "df = read_csv_from_s3(section_name, bucket_name, file_path)"
   ]
  },
  {
   "cell_type": "markdown",
   "metadata": {},
   "source": [
    "# Preprocess"
   ]
  },
  {
   "cell_type": "code",
   "execution_count": 5,
   "metadata": {},
   "outputs": [],
   "source": [
    "df_pre = df.copy()"
   ]
  },
  {
   "cell_type": "markdown",
   "metadata": {},
   "source": [
    "## 1. region\n",
    "grouping region\n",
    "\n",
    "* ('st louis, MO', 'st louis') -> stlouis\n",
    "* ('fort smith', 'fort smith, AR') -> fortsmith\n",
    "* ('kansas city', 'kansas city, MO') -> kansascity"
   ]
  },
  {
   "cell_type": "code",
   "execution_count": 6,
   "metadata": {},
   "outputs": [],
   "source": [
    "def str_replace(df, col, list_str, to_str=\"\"):\n",
    "    \n",
    "    print(f\"(before): {df[col].nunique()}\", end=\" -> \")\n",
    "    for s in list_str:\n",
    "        df[col] = df[col].str.replace(s, to_str)\n",
    "\n",
    "    print(f\"(after): {df[col].nunique()}\")\n",
    "    \n",
    "    return df"
   ]
  },
  {
   "cell_type": "code",
   "execution_count": 7,
   "metadata": {},
   "outputs": [
    {
     "name": "stdout",
     "output_type": "stream",
     "text": [
      "(before): 404 -> (after): 401\n"
     ]
    }
   ],
   "source": [
    "str_rplc = [\", MO\", \", AR\"]\n",
    "col = \"region\"\n",
    "\n",
    "df_pre = str_replace(df_pre, col, str_rplc)"
   ]
  },
  {
   "cell_type": "markdown",
   "metadata": {},
   "source": [
    "## 2. manufacturer"
   ]
  },
  {
   "cell_type": "code",
   "execution_count": 8,
   "metadata": {},
   "outputs": [
    {
     "name": "stdout",
     "output_type": "stream",
     "text": [
      "(before): 42 -> (after): 41\n"
     ]
    }
   ],
   "source": [
    "col = \"manufacturer\"\n",
    "\n",
    "print(f\"(before): {df_pre[col].nunique()}\", end=\" -> \")\n",
    "df_pre.loc[df_pre[col]==\"rover\", col] = \"land rover\"\n",
    "print(f\"(after): {df_pre[col].nunique()}\")"
   ]
  },
  {
   "cell_type": "markdown",
   "metadata": {},
   "source": [
    "## 3. VIN"
   ]
  },
  {
   "cell_type": "code",
   "execution_count": 9,
   "metadata": {},
   "outputs": [
    {
     "data": {
      "text/plain": [
       "1    265184\n",
       "0    161696\n",
       "Name: checked_VIN, dtype: int64"
      ]
     },
     "execution_count": 9,
     "metadata": {},
     "output_type": "execute_result"
    }
   ],
   "source": [
    "col = \"VIN\"\n",
    "\n",
    "df_pre[\"checked_VIN\"] = ~(df_pre[col].apply(lambda x: str(x).isdigit()) | df_pre[col].isnull())*1\n",
    "df_pre[\"checked_VIN\"].value_counts()"
   ]
  },
  {
   "cell_type": "markdown",
   "metadata": {},
   "source": [
    "## 4. posting_date"
   ]
  },
  {
   "cell_type": "code",
   "execution_count": 10,
   "metadata": {},
   "outputs": [],
   "source": [
    "col = \"posting_date\"\n",
    "df_pre[\"posting_year\"] = pd.to_datetime(df_pre[col], utc=True).dt.year\n",
    "df_pre[\"posting_day\"] = pd.to_datetime(df_pre[col], utc=True).dt.dayofyear"
   ]
  },
  {
   "cell_type": "markdown",
   "metadata": {},
   "source": [
    "## 5. Remove outlier"
   ]
  },
  {
   "cell_type": "code",
   "execution_count": 11,
   "metadata": {},
   "outputs": [
    {
     "data": {
      "text/plain": [
       "Index(['id', 'url', 'region', 'region_url', 'price', 'year', 'manufacturer',\n",
       "       'model', 'condition', 'cylinders', 'fuel', 'odometer', 'title_status',\n",
       "       'transmission', 'VIN', 'drive', 'size', 'type', 'paint_color',\n",
       "       'image_url', 'description', 'county', 'state', 'lat', 'long',\n",
       "       'posting_date', 'checked_VIN', 'posting_year', 'posting_day'],\n",
       "      dtype='object')"
      ]
     },
     "execution_count": 11,
     "metadata": {},
     "output_type": "execute_result"
    }
   ],
   "source": [
    "df_pre.columns"
   ]
  },
  {
   "cell_type": "code",
   "execution_count": 12,
   "metadata": {},
   "outputs": [
    {
     "data": {
      "text/plain": [
       "0          NaN\n",
       "1          NaN\n",
       "2          NaN\n",
       "3          NaN\n",
       "4          NaN\n",
       "          ... \n",
       "426875    good\n",
       "426876    good\n",
       "426877    good\n",
       "426878    good\n",
       "426879    good\n",
       "Name: condition, Length: 426880, dtype: object"
      ]
     },
     "execution_count": 12,
     "metadata": {},
     "output_type": "execute_result"
    }
   ],
   "source": [
    "df_pre.condition"
   ]
  },
  {
   "cell_type": "code",
   "execution_count": 15,
   "metadata": {},
   "outputs": [],
   "source": [
    "cols_to_train = [\"price\", \"year\", \"manufacturer\", \"model\", \n",
    "                 \"odometer\", \"condition\", \"title_status\",\n",
    "                 \"cylinders\", \"fuel\", \"transmission\", \"drive\", \n",
    "                 \"size\", \"type\", \"paint_color\", \"region\", \"state\",\n",
    "                 \"VIN\", \"checked_VIN\", \"posting_year\", \"posting_day\"]"
   ]
  },
  {
   "cell_type": "code",
   "execution_count": 16,
   "metadata": {},
   "outputs": [],
   "source": [
    "idx_prc = (df.price >= 500) & (df.price < 1e5)\n",
    "idx_odo = (df.odometer >= 100) & (df.odometer < 3e5)\n",
    "\n",
    "rows_to_train = idx_prc & idx_odo"
   ]
  },
  {
   "cell_type": "code",
   "execution_count": 17,
   "metadata": {},
   "outputs": [
    {
     "data": {
      "text/plain": [
       "(374526, 20)"
      ]
     },
     "execution_count": 17,
     "metadata": {},
     "output_type": "execute_result"
    }
   ],
   "source": [
    "df_train = df_pre.loc[rows_to_train, cols_to_train].copy()\n",
    "df_train.shape"
   ]
  },
  {
   "cell_type": "markdown",
   "metadata": {},
   "source": [
    "## Upload data to s3"
   ]
  },
  {
   "cell_type": "code",
   "execution_count": 18,
   "metadata": {},
   "outputs": [],
   "source": [
    "def write_csv_to_s3(section_name, bucket_name, file_path, data):\n",
    "    \n",
    "    parser = configparser.ConfigParser()\n",
    "    parser.read('./config.ini')\n",
    "    access_key = parser.get(section_name, \"access_key\")\n",
    "    secret_key = parser.get(section_name, \"secret_key\")\n",
    "    \n",
    "    s3 = boto3.client('s3',\n",
    "                      aws_access_key_id=access_key, \n",
    "                      aws_secret_access_key=secret_key)\n",
    "\n",
    "    print(\"Put object\")\n",
    "    s3.put_object(\n",
    "        Body=data.to_csv(index=False).encode(),\n",
    "        Bucket=bucket_name, Key=file_path)\n",
    "\n",
    "    print(\"Completed\")"
   ]
  },
  {
   "cell_type": "code",
   "execution_count": 19,
   "metadata": {},
   "outputs": [
    {
     "name": "stdout",
     "output_type": "stream",
     "text": [
      "Put object\n",
      "Completed\n"
     ]
    }
   ],
   "source": [
    "section_name = \"aws_boto_credentials\"\n",
    "bucket_name = \"ev-depreciation-model\"\n",
    "file_path = \"220701_used_car_v2.csv\"\n",
    "\n",
    "write_csv_to_s3(section_name, bucket_name, file_path, df_train)"
   ]
  },
  {
   "cell_type": "code",
   "execution_count": null,
   "metadata": {},
   "outputs": [],
   "source": []
  },
  {
   "cell_type": "code",
   "execution_count": null,
   "metadata": {},
   "outputs": [],
   "source": []
  }
 ],
 "metadata": {
  "instance_type": "ml.t3.medium",
  "kernelspec": {
   "display_name": "Python 3 (Data Science)",
   "language": "python",
   "name": "python3__SAGEMAKER_INTERNAL__arn:aws:sagemaker:ap-northeast-2:806072073708:image/datascience-1.0"
  },
  "language_info": {
   "codemirror_mode": {
    "name": "ipython",
    "version": 3
   },
   "file_extension": ".py",
   "mimetype": "text/x-python",
   "name": "python",
   "nbconvert_exporter": "python",
   "pygments_lexer": "ipython3",
   "version": "3.7.10"
  }
 },
 "nbformat": 4,
 "nbformat_minor": 4
}
