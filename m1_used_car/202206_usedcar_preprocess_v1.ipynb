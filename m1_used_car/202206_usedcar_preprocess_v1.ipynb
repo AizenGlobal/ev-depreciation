{
 "cells": [
  {
   "cell_type": "markdown",
   "metadata": {},
   "source": [
    "# Import modules"
   ]
  },
  {
   "cell_type": "code",
   "execution_count": 1,
   "metadata": {},
   "outputs": [],
   "source": [
    "import io\n",
    "import boto3\n",
    "import configparser\n",
    "\n",
    "import numpy as np\n",
    "import pandas as pd\n",
    "\n",
    "import matplotlib.pyplot as plt\n",
    "import seaborn as sns"
   ]
  },
  {
   "cell_type": "code",
   "execution_count": 2,
   "metadata": {},
   "outputs": [],
   "source": [
    "pd.set_option('display.max_columns', 50)\n",
    "pd.set_option('display.max_rows', 100)"
   ]
  },
  {
   "cell_type": "markdown",
   "metadata": {},
   "source": [
    "# Load s3 file"
   ]
  },
  {
   "cell_type": "code",
   "execution_count": 3,
   "metadata": {},
   "outputs": [],
   "source": [
    "def read_csv_from_s3(section_name, bucket_name, file_path, ):\n",
    "    \n",
    "    parser = configparser.ConfigParser()\n",
    "    parser.read('./config.ini')\n",
    "    access_key = parser.get(section_name, \"access_key\")\n",
    "    secret_key = parser.get(section_name, \"secret_key\")\n",
    "    \n",
    "    s3 = boto3.client('s3',\n",
    "                      aws_access_key_id=access_key, \n",
    "                      aws_secret_access_key=secret_key)\n",
    "    print(\"Get object\")\n",
    "    obj = s3.get_object(Bucket=bucket_name, Key=file_path)\n",
    "\n",
    "    print(\"Read csv\")\n",
    "    df = pd.read_csv( io.BytesIO( obj[\"Body\"].read() ) )\n",
    "    \n",
    "    print(\"Completed\")\n",
    "    print(\"Data size:\", df.shape)\n",
    "\n",
    "    return df"
   ]
  },
  {
   "cell_type": "code",
   "execution_count": 4,
   "metadata": {},
   "outputs": [
    {
     "name": "stdout",
     "output_type": "stream",
     "text": [
      "Get object\n",
      "Read csv\n",
      "Completed\n",
      "Data size: (426880, 26)\n"
     ]
    }
   ],
   "source": [
    "section_name = \"aws_boto_credentials\"\n",
    "bucket_name = \"s3-test-ev\"\n",
    "file_path = \"raw/vehicles.csv\"\n",
    "\n",
    "df = read_csv_from_s3(section_name, bucket_name, file_path)"
   ]
  },
  {
   "cell_type": "markdown",
   "metadata": {},
   "source": [
    "# Preprocess"
   ]
  },
  {
   "cell_type": "code",
   "execution_count": 5,
   "metadata": {},
   "outputs": [],
   "source": [
    "df_pre = df.copy()"
   ]
  },
  {
   "cell_type": "markdown",
   "metadata": {},
   "source": [
    "## 1. region"
   ]
  },
  {
   "cell_type": "markdown",
   "metadata": {},
   "source": [
    "grouping region  \n",
    "* ('st louis, MO', 'st louis') -> stlouis\n",
    "* ('fort smith', 'fort smith, AR') -> fortsmith\n",
    "* ('kansas city', 'kansas city, MO') -> kansascity"
   ]
  },
  {
   "cell_type": "code",
   "execution_count": 6,
   "metadata": {},
   "outputs": [],
   "source": [
    "def str_replace(df, col, list_str, to_str=\"\"):\n",
    "    \n",
    "    print(f\"(before): {df[col].nunique()}\", end=\" -> \")\n",
    "    for s in list_str:\n",
    "        df[col] = df[col].str.replace(s, to_str)\n",
    "\n",
    "    print(f\"(after): {df[col].nunique()}\")\n",
    "    \n",
    "    return df"
   ]
  },
  {
   "cell_type": "code",
   "execution_count": 7,
   "metadata": {},
   "outputs": [
    {
     "name": "stdout",
     "output_type": "stream",
     "text": [
      "(before): 404 -> (after): 401\n"
     ]
    }
   ],
   "source": [
    "str_rplc = [\", MO\", \", AR\"]\n",
    "col = \"region\"\n",
    "\n",
    "df_pre = str_replace(df_pre, col, str_rplc)"
   ]
  },
  {
   "cell_type": "markdown",
   "metadata": {},
   "source": [
    "## 2. manufacturer"
   ]
  },
  {
   "cell_type": "markdown",
   "metadata": {},
   "source": [
    "* check manufacturer \"ram\""
   ]
  },
  {
   "cell_type": "code",
   "execution_count": 8,
   "metadata": {},
   "outputs": [
    {
     "name": "stdout",
     "output_type": "stream",
     "text": [
      "(before): 42 -> (after): 41\n"
     ]
    }
   ],
   "source": [
    "col = \"manufacturer\"\n",
    "\n",
    "print(f\"(before): {df_pre[col].nunique()}\", end=\" -> \")\n",
    "df_pre.loc[df_pre[col]==\"rover\", col] = \"land rover\"\n",
    "print(f\"(after): {df_pre[col].nunique()}\")"
   ]
  },
  {
   "cell_type": "markdown",
   "metadata": {},
   "source": [
    "## 3. VIN"
   ]
  },
  {
   "cell_type": "code",
   "execution_count": 9,
   "metadata": {},
   "outputs": [],
   "source": [
    "col = \"VIN\"\n",
    "\n",
    "\n",
    "df_pre[\"checked_VIN\"] = ~(df_pre[col].apply(lambda x: str(x).isdigit()) | df_pre[col].isnull())*1"
   ]
  },
  {
   "cell_type": "code",
   "execution_count": 10,
   "metadata": {},
   "outputs": [
    {
     "data": {
      "text/plain": [
       "1    265184\n",
       "0    161696\n",
       "Name: checked_VIN, dtype: int64"
      ]
     },
     "execution_count": 10,
     "metadata": {},
     "output_type": "execute_result"
    }
   ],
   "source": [
    "df_pre[\"checked_VIN\"].value_counts()"
   ]
  },
  {
   "cell_type": "markdown",
   "metadata": {},
   "source": [
    "## 4. posting_date"
   ]
  },
  {
   "cell_type": "code",
   "execution_count": 11,
   "metadata": {},
   "outputs": [],
   "source": [
    "col = \"posting_date\"\n",
    "df_pre[\"posting_year\"] = pd.to_datetime(df_pre[col], utc=True).dt.year\n",
    "df_pre[\"posting_day\"] = pd.to_datetime(df_pre[col], utc=True).dt.dayofyear"
   ]
  },
  {
   "cell_type": "markdown",
   "metadata": {},
   "source": [
    "## 5. Remove outlier"
   ]
  },
  {
   "cell_type": "code",
   "execution_count": 12,
   "metadata": {},
   "outputs": [],
   "source": [
    "cols_to_train = [\"price\", \"region\", \"year\", \n",
    "                 \"manufacturer\", \"condition\", \"cylinders\", \n",
    "                 \"fuel\", \"odometer\", \"title_status\",\n",
    "                 \"transmission\", \"drive\", \"size\", \n",
    "                 \"type\", \"paint_color\", \"state\",\n",
    "                 \"checked_VIN\", \"posting_year\", \"posting_day\"]"
   ]
  },
  {
   "cell_type": "code",
   "execution_count": 13,
   "metadata": {},
   "outputs": [],
   "source": [
    "idx_prc = (df.price >= 500) & (df.price < 1e5)\n",
    "idx_odo = (df.odometer >= 100) & (df.odometer < 3e5)\n",
    "\n",
    "rows_to_train = idx_prc & idx_odo"
   ]
  },
  {
   "cell_type": "code",
   "execution_count": 14,
   "metadata": {},
   "outputs": [
    {
     "data": {
      "text/plain": [
       "(374526, 18)"
      ]
     },
     "execution_count": 14,
     "metadata": {},
     "output_type": "execute_result"
    }
   ],
   "source": [
    "df_train = df_pre.loc[rows_to_train, cols_to_train].copy()\n",
    "df_train.shape"
   ]
  },
  {
   "cell_type": "code",
   "execution_count": 15,
   "metadata": {},
   "outputs": [
    {
     "data": {
      "text/html": [
       "<div>\n",
       "<style scoped>\n",
       "    .dataframe tbody tr th:only-of-type {\n",
       "        vertical-align: middle;\n",
       "    }\n",
       "\n",
       "    .dataframe tbody tr th {\n",
       "        vertical-align: top;\n",
       "    }\n",
       "\n",
       "    .dataframe thead th {\n",
       "        text-align: right;\n",
       "    }\n",
       "</style>\n",
       "<table border=\"1\" class=\"dataframe\">\n",
       "  <thead>\n",
       "    <tr style=\"text-align: right;\">\n",
       "      <th></th>\n",
       "      <th>price</th>\n",
       "      <th>region</th>\n",
       "      <th>year</th>\n",
       "      <th>manufacturer</th>\n",
       "      <th>condition</th>\n",
       "      <th>cylinders</th>\n",
       "      <th>fuel</th>\n",
       "      <th>odometer</th>\n",
       "      <th>title_status</th>\n",
       "      <th>transmission</th>\n",
       "      <th>drive</th>\n",
       "      <th>size</th>\n",
       "      <th>type</th>\n",
       "      <th>paint_color</th>\n",
       "      <th>state</th>\n",
       "      <th>checked_VIN</th>\n",
       "      <th>posting_year</th>\n",
       "      <th>posting_day</th>\n",
       "    </tr>\n",
       "  </thead>\n",
       "  <tbody>\n",
       "    <tr>\n",
       "      <th>27</th>\n",
       "      <td>33590</td>\n",
       "      <td>auburn</td>\n",
       "      <td>2014.0</td>\n",
       "      <td>gmc</td>\n",
       "      <td>good</td>\n",
       "      <td>8 cylinders</td>\n",
       "      <td>gas</td>\n",
       "      <td>57923.0</td>\n",
       "      <td>clean</td>\n",
       "      <td>other</td>\n",
       "      <td>NaN</td>\n",
       "      <td>NaN</td>\n",
       "      <td>pickup</td>\n",
       "      <td>white</td>\n",
       "      <td>al</td>\n",
       "      <td>1</td>\n",
       "      <td>2021.0</td>\n",
       "      <td>124.0</td>\n",
       "    </tr>\n",
       "    <tr>\n",
       "      <th>28</th>\n",
       "      <td>22590</td>\n",
       "      <td>auburn</td>\n",
       "      <td>2010.0</td>\n",
       "      <td>chevrolet</td>\n",
       "      <td>good</td>\n",
       "      <td>8 cylinders</td>\n",
       "      <td>gas</td>\n",
       "      <td>71229.0</td>\n",
       "      <td>clean</td>\n",
       "      <td>other</td>\n",
       "      <td>NaN</td>\n",
       "      <td>NaN</td>\n",
       "      <td>pickup</td>\n",
       "      <td>blue</td>\n",
       "      <td>al</td>\n",
       "      <td>1</td>\n",
       "      <td>2021.0</td>\n",
       "      <td>124.0</td>\n",
       "    </tr>\n",
       "    <tr>\n",
       "      <th>29</th>\n",
       "      <td>39590</td>\n",
       "      <td>auburn</td>\n",
       "      <td>2020.0</td>\n",
       "      <td>chevrolet</td>\n",
       "      <td>good</td>\n",
       "      <td>8 cylinders</td>\n",
       "      <td>gas</td>\n",
       "      <td>19160.0</td>\n",
       "      <td>clean</td>\n",
       "      <td>other</td>\n",
       "      <td>NaN</td>\n",
       "      <td>NaN</td>\n",
       "      <td>pickup</td>\n",
       "      <td>red</td>\n",
       "      <td>al</td>\n",
       "      <td>1</td>\n",
       "      <td>2021.0</td>\n",
       "      <td>124.0</td>\n",
       "    </tr>\n",
       "    <tr>\n",
       "      <th>30</th>\n",
       "      <td>30990</td>\n",
       "      <td>auburn</td>\n",
       "      <td>2017.0</td>\n",
       "      <td>toyota</td>\n",
       "      <td>good</td>\n",
       "      <td>8 cylinders</td>\n",
       "      <td>gas</td>\n",
       "      <td>41124.0</td>\n",
       "      <td>clean</td>\n",
       "      <td>other</td>\n",
       "      <td>NaN</td>\n",
       "      <td>NaN</td>\n",
       "      <td>pickup</td>\n",
       "      <td>red</td>\n",
       "      <td>al</td>\n",
       "      <td>1</td>\n",
       "      <td>2021.0</td>\n",
       "      <td>124.0</td>\n",
       "    </tr>\n",
       "    <tr>\n",
       "      <th>31</th>\n",
       "      <td>15000</td>\n",
       "      <td>auburn</td>\n",
       "      <td>2013.0</td>\n",
       "      <td>ford</td>\n",
       "      <td>excellent</td>\n",
       "      <td>6 cylinders</td>\n",
       "      <td>gas</td>\n",
       "      <td>128000.0</td>\n",
       "      <td>clean</td>\n",
       "      <td>automatic</td>\n",
       "      <td>rwd</td>\n",
       "      <td>full-size</td>\n",
       "      <td>truck</td>\n",
       "      <td>black</td>\n",
       "      <td>al</td>\n",
       "      <td>0</td>\n",
       "      <td>2021.0</td>\n",
       "      <td>123.0</td>\n",
       "    </tr>\n",
       "  </tbody>\n",
       "</table>\n",
       "</div>"
      ],
      "text/plain": [
       "    price  region    year manufacturer  condition    cylinders fuel  odometer  \\\n",
       "27  33590  auburn  2014.0          gmc       good  8 cylinders  gas   57923.0   \n",
       "28  22590  auburn  2010.0    chevrolet       good  8 cylinders  gas   71229.0   \n",
       "29  39590  auburn  2020.0    chevrolet       good  8 cylinders  gas   19160.0   \n",
       "30  30990  auburn  2017.0       toyota       good  8 cylinders  gas   41124.0   \n",
       "31  15000  auburn  2013.0         ford  excellent  6 cylinders  gas  128000.0   \n",
       "\n",
       "   title_status transmission drive       size    type paint_color state  \\\n",
       "27        clean        other   NaN        NaN  pickup       white    al   \n",
       "28        clean        other   NaN        NaN  pickup        blue    al   \n",
       "29        clean        other   NaN        NaN  pickup         red    al   \n",
       "30        clean        other   NaN        NaN  pickup         red    al   \n",
       "31        clean    automatic   rwd  full-size   truck       black    al   \n",
       "\n",
       "    checked_VIN  posting_year  posting_day  \n",
       "27            1        2021.0        124.0  \n",
       "28            1        2021.0        124.0  \n",
       "29            1        2021.0        124.0  \n",
       "30            1        2021.0        124.0  \n",
       "31            0        2021.0        123.0  "
      ]
     },
     "execution_count": 15,
     "metadata": {},
     "output_type": "execute_result"
    }
   ],
   "source": [
    "df_train.head()"
   ]
  },
  {
   "cell_type": "markdown",
   "metadata": {},
   "source": [
    "# Upload data to s3"
   ]
  },
  {
   "cell_type": "code",
   "execution_count": 20,
   "metadata": {},
   "outputs": [],
   "source": [
    "def write_csv_to_s3(section_name, bucket_name, file_path, data):\n",
    "    \n",
    "    parser = configparser.ConfigParser()\n",
    "    parser.read('./config.ini')\n",
    "    access_key = parser.get(section_name, \"access_key\")\n",
    "    secret_key = parser.get(section_name, \"secret_key\")\n",
    "    \n",
    "    s3 = boto3.client('s3',\n",
    "                      aws_access_key_id=access_key, \n",
    "                      aws_secret_access_key=secret_key)\n",
    "\n",
    "    print(\"Put object\")\n",
    "    s3.put_object(\n",
    "        Body=data.to_csv(index=False).encode(),\n",
    "        Bucket=bucket_name, Key=file_path)\n",
    "\n",
    "    print(\"Completed\")"
   ]
  },
  {
   "cell_type": "code",
   "execution_count": 21,
   "metadata": {},
   "outputs": [
    {
     "name": "stdout",
     "output_type": "stream",
     "text": [
      "Put object\n",
      "Completed\n"
     ]
    }
   ],
   "source": [
    "section_name = \"aws_boto_credentials\"\n",
    "bucket_name = \"s3-test-ev\"\n",
    "file_path = \"train/220616_used_car_v1.csv\"\n",
    "\n",
    "write_csv_to_s3(section_name, bucket_name, file_path, df_train)"
   ]
  },
  {
   "cell_type": "code",
   "execution_count": null,
   "metadata": {},
   "outputs": [],
   "source": []
  }
 ],
 "metadata": {
  "instance_type": "ml.m5.large",
  "kernelspec": {
   "display_name": "Python 3 (Data Science)",
   "language": "python",
   "name": "python3__SAGEMAKER_INTERNAL__arn:aws:sagemaker:ap-northeast-2:806072073708:image/datascience-1.0"
  },
  "language_info": {
   "codemirror_mode": {
    "name": "ipython",
    "version": 3
   },
   "file_extension": ".py",
   "mimetype": "text/x-python",
   "name": "python",
   "nbconvert_exporter": "python",
   "pygments_lexer": "ipython3",
   "version": "3.7.10"
  }
 },
 "nbformat": 4,
 "nbformat_minor": 4
}
